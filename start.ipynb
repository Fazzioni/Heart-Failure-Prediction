{
 "cells": [
  {
   "cell_type": "code",
   "execution_count": null,
   "id": "8218043c",
   "metadata": {
    "scrolled": false
   },
   "outputs": [],
   "source": [
    "import pandas as pd\n",
    "import matplotlib.pyplot as plt\n",
    "\n",
    "# for jupyter\n",
    "%matplotlib inline \n",
    "\n",
    "dt = pd.read_csv('Dataset/heart.csv')\n",
    "\"\"\"\n",
    "font: https://www.kaggle.com/datasets/fedesoriano/heart-failure-prediction\n",
    "Attribute Information\n",
    "    Age: age of the patient [years]\n",
    "    Sex: sex of the patient [M: Male, F: Female]\n",
    "    ChestPainType: chest pain type [TA: Typical Angina, ATA: Atypical Angina, NAP: Non-Anginal Pain, ASY: Asymptomatic]\n",
    "    RestingBP: resting blood pressure [mm Hg]\n",
    "    Cholesterol: serum cholesterol [mm/dl] // algumas referêcias apontam mg/dl\n",
    "    FastingBS: fasting blood sugar [1: if FastingBS > 120 mg/dl, 0: otherwise]\n",
    "    RestingECG: resting electrocardiogram results [Normal: Normal, ST: having ST-T wave abnormality (T wave inversions and/or ST elevation or depression of > 0.05 mV), LVH: showing probable or definite left ventricular hypertrophy by Estes' criteria]\n",
    "    MaxHR: maximum heart rate achieved [Numeric value between 60 and 202]\n",
    "    ExerciseAngina: exercise-induced angina [Y: Yes, N: No]\n",
    "    Oldpeak: oldpeak = ST [Numeric value measured in depression]\n",
    "    ST_Slope: the slope of the peak exercise ST segment [Up: upsloping, Flat: flat, Down: downsloping]\n",
    "    HeartDisease: output class [1: heart disease, 0: Normal]\n",
    "\"\"\"      \n",
    "print(dt.shape)\n",
    "print(dt.info())\n",
    "# dt.head(100)"
   ]
  },
  {
   "cell_type": "code",
   "execution_count": null,
   "id": "62630002",
   "metadata": {},
   "outputs": [],
   "source": [
    "\"\"\" Converter os tipos de objetos para numéricos \"\"\"\n",
    "\n",
    "#Sex\n",
    "dt[\"Sex\"] = dt[\"Sex\"].apply(lambda x: 1 if x == 'M' else 0)\n",
    "#ChestPainTypes\n",
    "ChestPainTypes = [\"TA\",\"ATA\",\"NAP\",\"ASY\"]\n",
    "dt[\"ChestPainType\"] = dt[\"ChestPainType\"].apply(lambda x: ChestPainTypes.index(x))\n",
    "\n",
    "## trocando os valores iguais a zero pela média, pequena correção\n",
    "# Cholesterol\n",
    "dt[\"Cholesterol\"] = dt[\"Cholesterol\"].apply(lambda x: dt[\"Cholesterol\"].mean() if x == 0 else x) \n",
    "\n",
    "# RestingBP - \n",
    "dt[\"RestingBP\"] = dt[\"RestingBP\"].apply(lambda x: dt[\"RestingBP\"].mean() if x == 0 else x)\n",
    "\n",
    "# RestingECG\n",
    "dt[\"RestingECG\"] = dt[\"RestingECG\"].apply(lambda x:['Normal', 'ST', 'LVH'].index(x))\n",
    "\n",
    "# ExerciseAngina\n",
    "dt[\"ExerciseAngina\"] = dt[\"ExerciseAngina\"].apply(lambda x: 1 if x == 'Y' else 0)\n",
    "\n",
    "# dt['ST_Slope'].unique() # array(['Up', 'Flat', 'Down'], dtype=object)\n",
    "dt['ST_Slope'] =  dt['ST_Slope'].apply(lambda x: ['Up', 'Flat', 'Down'].index(x))"
   ]
  },
  {
   "cell_type": "code",
   "execution_count": null,
   "id": "ef8bad08",
   "metadata": {},
   "outputs": [],
   "source": [
    "dt.hist(bins=50,figsize=(20,15))\n",
    "print(\"Hist: \")"
   ]
  },
  {
   "cell_type": "code",
   "execution_count": null,
   "id": "8cdde5ca",
   "metadata": {
    "scrolled": true
   },
   "outputs": [],
   "source": [
    "pd.plotting.scatter_matrix(dt, figsize=(20,10))\n",
    "print('Matriz de cofusão: ')"
   ]
  },
  {
   "cell_type": "code",
   "execution_count": null,
   "id": "671bf2ef",
   "metadata": {},
   "outputs": [],
   "source": [
    "\"\"\"\n",
    "    Tentativa de plotar dados binários\n",
    "\"\"\"\n",
    "dt.plot(kind=\"scatter\", y=\"HeartDisease\", x=\"Cholesterol\", alpha=0.1,s=dt[\"Age\"]*10, label=\"Idade\",c=\"Sex\",cmap=plt.get_cmap(\"jet\"), colorbar=True,figsize=(20,5))\n",
    "plt.legend()\n",
    "\n",
    "# como os dados são binários, é mais interessante tentar aplicar uma cor ao resultado\n",
    "# o resultado abaixo ainda é influenciado pelo tamanho dos círculos\n",
    "\n",
    "\n"
   ]
  },
  {
   "cell_type": "code",
   "execution_count": null,
   "id": "3468a846",
   "metadata": {},
   "outputs": [],
   "source": [
    "dt.plot(kind=\"scatter\", x=\"MaxHR\", y=\"Age\", alpha=0.5, s='Cholesterol', label=\"Cholesterol\",\n",
    "c=\"HeartDisease\",cmap=plt.get_cmap(\"jet\"), colorbar=True, figsize=(20,5) )\n",
    "plt.legend()\n",
    "# Problema:\n",
    "#         Se alterar o parâmetro \"alpha\", você altera a região que precisaria classificar\n"
   ]
  },
  {
   "cell_type": "code",
   "execution_count": null,
   "id": "ca2a0180",
   "metadata": {},
   "outputs": [],
   "source": [
    "# busca a correlação entre todas os campos númericos\n",
    "dt.corr()"
   ]
  },
  {
   "cell_type": "code",
   "execution_count": null,
   "id": "e924da54",
   "metadata": {},
   "outputs": [],
   "source": [
    "# vamos investigar a combinação das variáveis com maior correlação:\n",
    "# 1- ST_Slope\n",
    "# 2- ExerciseAngina\n",
    "# 3- ChestPainType\n",
    "# 4- Oldpeak ou MaxHR\n",
    "\n",
    "# O banco de dados utilizados é muito pequeno para tentar treinar fetures de Sexo e Idade\n"
   ]
  },
  {
   "cell_type": "code",
   "execution_count": null,
   "id": "f0f1d7bf",
   "metadata": {},
   "outputs": [],
   "source": [
    "\"\"\"\n",
    "    Pensamos em uma abordagem diferente, como são dados binários não conseguimos perceber a frequência dos dados,\n",
    "    então, randomizamos um pequeno incremento para cada variável\n",
    "\"\"\"\n",
    "\n",
    "import random\n",
    "aumento = 60\n",
    "dt['ST_Slope1'] = dt['ST_Slope'].apply(lambda x : x+(random.randrange(0,aumento)/100))\n",
    "dt['ExerciseAngina1'] = dt['ExerciseAngina'].apply(lambda x : x+(random.randrange(0,aumento)/100))\n",
    "dt['ChestPainType1'] = dt['ChestPainType'].apply(lambda x : x+(random.randrange(0,aumento)/100))\n",
    "dt['RestingECG1'] = dt['RestingECG'].apply(lambda x : x+(random.randrange(0,aumento)/100))\n",
    "\n",
    "# Gerar uma matriz de confusao:\n",
    "All_col = ['ST_Slope1','ExerciseAngina1','ChestPainType1','Oldpeak','MaxHR']\n",
    "col = []\n",
    "for x in range(len(All_col)):\n",
    "    for xx in range(x+1,len(All_col)):\n",
    "        col.append( (All_col[x],All_col[xx]))\n",
    "        \n",
    "\n",
    "for c in col:\n",
    "    # faz a plotagem\n",
    "    dt.plot(kind='scatter', x=c[0], y = c[1], alpha=1,\n",
    "        label='x='+c[0], title='',\n",
    "        c='HeartDisease', cmap=plt.get_cmap(\"winter\"),\n",
    "        figsize=(10,5)\n",
    "       )\n",
    "\n",
    "    # desenha o label do eixo x\n",
    "    #lt.text( max(dt[c[0]])/2 ,  min(dt[c[1]])-1 , \"Downsloping\", fontsize=12, horizontalalignment='center' )\n",
    "    #plt.xticks(ticks=[1,2,3,4,5,], labels=[\"teste\",\"123\",\"123\",\"123\",\"abc\"])\n",
    "    #plt.text(1,4,\"123\")\n",
    "    #plt.legend()\n",
    "    #print(max(c[0]))\n",
    "    \n",
    "    "
   ]
  },
  {
   "cell_type": "code",
   "execution_count": null,
   "id": "308dc42c",
   "metadata": {},
   "outputs": [],
   "source": [
    "dt.plot(kind=\"scatter\", x=\"MaxHR\", y=\"ST_Slope\", alpha=0.5,\n",
    "# s=dt['Cholesterol'] , \n",
    "# s = (dt['ExerciseAngina']*10)+1,\n",
    "\n",
    "label=\" \",        \n",
    "c=\"HeartDisease\",cmap=plt.get_cmap(\"binary\"), colorbar=True,\n",
    "figsize=(20,5)\n",
    ")\n",
    "plt.legend( )"
   ]
  },
  {
   "cell_type": "code",
   "execution_count": null,
   "id": "aacef638",
   "metadata": {},
   "outputs": [],
   "source": [
    "# me parece que temos varias variaveis binárias\n",
    "## como cada uma delas se relacionam com a chance de ter doença cardíaca?\n",
    "# vamos testar os fields com a maior correlação:\n",
    "# ST_Slope\n",
    "# ExerciseAngina\n",
    "# ChestPainType\n",
    "# Como fazemos isso?\n",
    "# Como comparar dois valores binarios?\n",
    "\n",
    "\n"
   ]
  },
  {
   "cell_type": "code",
   "execution_count": null,
   "id": "8a2bb944",
   "metadata": {},
   "outputs": [],
   "source": [
    "# dt.describe()"
   ]
  },
  {
   "cell_type": "code",
   "execution_count": null,
   "id": "a28853f0",
   "metadata": {},
   "outputs": [],
   "source": [
    "# dt.plot(kind='scatter', x='ExerciseAngina', y = 'ST_Slope', alpha=0.2,label=\"indices\", c='HeartDisease', cmap=plt.get_cmap(\"jet\"),figsize=(10,10))"
   ]
  },
  {
   "cell_type": "code",
   "execution_count": null,
   "id": "15e35ca4",
   "metadata": {},
   "outputs": [],
   "source": [
    "# Agora ficou visível uma relação, não?!\n",
    "dt.plot(kind='scatter', x='ExerciseAngina1', y = 'ST_Slope1', alpha=1,\n",
    "        label=\"indices\", title='test',\n",
    "        c='HeartDisease', cmap=plt.get_cmap(\"winter\"),\n",
    "        figsize=(10,10)\n",
    "       )\n",
    " \n"
   ]
  },
  {
   "cell_type": "code",
   "execution_count": null,
   "id": "f5c7420f",
   "metadata": {
    "scrolled": true
   },
   "outputs": [],
   "source": [
    "# vamos tentar colocar mais uma variavel no jogo?\n",
    "\"\"\"\n",
    "    from mpl_toolkits.mplot3d import Axes3D\n",
    "    fig = plt.figure()\n",
    "    ax = fig.add_subplot(111, projection='3d')\n",
    "\"\"\""
   ]
  },
  {
   "cell_type": "code",
   "execution_count": null,
   "id": "0a745dd6",
   "metadata": {},
   "outputs": [],
   "source": [
    "# Relação entre \n",
    "\n",
    "# style = \n",
    "dt.plot(kind='scatter', x='ExerciseAngina1', y = 'ST_Slope1', alpha=0.5,\n",
    "        label=\"indices\", title='test',\n",
    "        c='HeartDisease', cmap=plt.get_cmap(\"jet\"), s=30,\n",
    "        figsize=(10,10),\n",
    "        xlabel={'center':'test', 'labelpad':1}\n",
    "       )\n",
    "#print(dt.axes)\n"
   ]
  },
  {
   "cell_type": "code",
   "execution_count": null,
   "id": "e8240e86",
   "metadata": {},
   "outputs": [],
   "source": [
    "\"\"\"dt.plot(kind='scatter', x='ExerciseAngina1', y = 'ChestPainType', alpha=0.5,\n",
    "        label=\"indices\", title='test',\n",
    "        c='HeartDisease', cmap=plt.get_cmap(\"jet\"), marker='^',\n",
    "        figsize=(10,10)\n",
    "       )\n",
    "plt.xlabel(\"Culmen Length (mm)\",fontweight ='bold', size=14)    \n",
    "\"\"\"\n",
    "\n",
    "\"\"\"\n",
    "ST_Slope\n",
    "ExerciseAngina\n",
    "ChestPainType\n",
    "Oldpeak\n",
    "\"\"\"\n",
    "\n",
    "ax = dt.plot.scatter(x='ExerciseAngina1', y = 'ST_Slope1' , label=\"Group 1\", c='HeartDisease', cmap=plt.get_cmap(\"jet\"), marker='^', s=30)\n",
    "\n",
    "\n",
    "\n",
    "dt.plot.scatter(x='ExerciseAngina1', y = 'ChestPainType1', label=\"Group 2\",  c='HeartDisease', \n",
    "                cmap=plt.get_cmap(\"winter\"), ax=ax,figsize=(15,15),s=30)\n",
    "\n",
    "\n"
   ]
  },
  {
   "cell_type": "code",
   "execution_count": null,
   "id": "78ce82ee",
   "metadata": {},
   "outputs": [],
   "source": [
    "\n",
    "dt.plot(kind='scatter', x='ExerciseAngina1', y = 'ST_Slope1', alpha=1,\n",
    "        label=\"indices\", title='test',\n",
    "        c='HeartDisease', cmap=plt.get_cmap(\"winter\"),\n",
    "        figsize=(10,10)\n",
    "       )\n",
    " "
   ]
  },
  {
   "cell_type": "code",
   "execution_count": null,
   "id": "d88efce6",
   "metadata": {},
   "outputs": [],
   "source": []
  },
  {
   "cell_type": "code",
   "execution_count": null,
   "id": "22e8305a",
   "metadata": {},
   "outputs": [],
   "source": [
    "# Por que NÃO foi considerado o sexo do indivíduo?\n",
    "# O problema de considerar o sexo é que os dados são experimentais, portanto, \n",
    "# a relação do banco de dados pode ser tendenciosa e não necessáriamente refletir o que acontece na natureaza"
   ]
  },
  {
   "cell_type": "code",
   "execution_count": null,
   "id": "e00baeb2",
   "metadata": {
    "scrolled": false
   },
   "outputs": [],
   "source": [
    "\"\"\"\n",
    "    Os resultados no banco de dados estão equilibrados? ou há viés?\n",
    "    \n",
    "\"\"\"\n",
    "# pegar a quantidade de pacientes com e sem insu. cardíaca\n",
    "resultados_len = len(dt[dt.HeartDisease == 1]), len(dt[dt.HeartDisease == 0])\n",
    "\n",
    "# vamos plotar com cores diferentes\n",
    "plt.bar( [ 1 ],  resultados_len[0] , color='r', label = 'Pacientes que tiveram insuficiência cardíaca')\n",
    "plt.bar( [ 2 ],  resultados_len[1] , color='g', label = 'Pacientes sem insuficiência cardíaca')\n",
    "\n",
    "# remover os valores dos eixos x\n",
    "plt.tick_params(labelbottom=False, labelsize=20) \n",
    "\n",
    "#adiciona a legenda no rodapé\n",
    "plt.legend(bbox_to_anchor=(0,-0.3,0,0), loc=\"lower left\", borderaxespad=0, ncol=1, fontsize=25, \n",
    "           title =\"Legenda\",title_fontsize=20, shadow=True)\n",
    "\n",
    "# coloca um título\n",
    "plt.title(\"Relação entre pacientes com e sem insuficiência cardíaca\",fontsize=30)\n",
    "\n",
    "\n",
    "# coloca a legenda do eixo y\n",
    "plt.text(0.35 ,250, \"Quantidade de pacientes\", fontsize=30,  rotation='vertical',  verticalalignment='center')\n",
    "\n",
    "\n",
    "# mostra o gráfico\n",
    "plt.show()\n",
    "\n"
   ]
  },
  {
   "cell_type": "code",
   "execution_count": null,
   "id": "3cb22ad7",
   "metadata": {},
   "outputs": [],
   "source": [
    "#Que tipo de dados estou errando? \n",
    "# falso positivos?\n",
    "#"
   ]
  },
  {
   "cell_type": "code",
   "execution_count": null,
   "id": "c56f6fe7",
   "metadata": {},
   "outputs": [],
   "source": [
    "\"\"\"\n",
    "    Como estamos tentando plotar valores binários, vamos variar minimamente para não plotar em cima do outro\n",
    "    **apenas para aspecto visual\n",
    "\"\"\"\n",
    "import random\n",
    "aumento = 60\n",
    "# para cada uma dessas variáveis randomiza um acrescimo entre 0 e 60\n",
    "dt['ST_Slope1'] = dt['ST_Slope'].apply(lambda x : x+(random.randrange(0,aumento)/100))\n",
    "dt['ExerciseAngina1'] = dt['ExerciseAngina'].apply(lambda x : x+(random.randrange(0,aumento)/100))\n",
    "dt['ChestPainType1'] = dt['ChestPainType'].apply(lambda x : x+(random.randrange(0,aumento)/100))\n",
    "\n",
    "\n",
    "# Gerar uma matriz de confusao:\n",
    "All_col = ['ST_Slope1','ExerciseAngina1','ChestPainType1','Oldpeak','MaxHR']\n",
    "col = []\n",
    "for x in range(len(All_col)):\n",
    "    for xx in range(x+1,len(All_col)):\n",
    "        col.append( (All_col[x],All_col[xx]))\n",
    "        \n",
    "\n",
    "for c in col:\n",
    "    dt.plot(kind='scatter', x=c[0], y = c[1], alpha=1,\n",
    "        label='x='+c[0], title='',\n",
    "        c='HeartDisease', cmap=plt.get_cmap(\"winter\"),\n",
    "        figsize=(10,5)\n",
    "       )\n",
    "    plt.legend()\n",
    " "
   ]
  },
  {
   "cell_type": "code",
   "execution_count": null,
   "id": "d3a970ef",
   "metadata": {},
   "outputs": [],
   "source": [
    "\"\"\"\n",
    "    Separar os valores para plotar, \n",
    "\"\"\"\n",
    "# muda o tamanho das figuras de plotagem\n",
    "plt.rcParams[\"figure.figsize\"] = (25,10)\n",
    "\n",
    "\n",
    "\"\"\"Separa em mais datasets para melhorar a vizualização\"\"\"\n",
    "# cria um dataset apenas das pessoas com insuficiência cárdiaca\n",
    "dty = dt[ dt['HeartDisease'] == 1]\n",
    "### Desse dataset cria mais dois: os que sentem dor (cardíaca) quando se exercitam e os que não sentem\n",
    "dt_failure_Pain = dty[ dty['ExerciseAngina'] == 1] \n",
    "dt_failure_     = dty[ dty['ExerciseAngina'] == 0] \n",
    "\n",
    "\n",
    "\n",
    "# cria um dataset apenas das pessoas sem insuficiência cárdiaca\n",
    "dtn = dt[ dt['HeartDisease'] != 1]\n",
    "### Desse dataset cria mais dois: os que sentem dor (cardíaca) quando se exercitam e os que não sentem\n",
    "dt_work_Pain = dtn[ dtn['ExerciseAngina'] == 1] \n",
    "dt_work_     = dtn[ dtn['ExerciseAngina'] == 0] "
   ]
  },
  {
   "cell_type": "code",
   "execution_count": null,
   "id": "6e2fe630",
   "metadata": {},
   "outputs": [],
   "source": [
    "print(\"Gráfico usando:  ChestPainType1 x ST_Slope1, + ExerciseAngina e HeartDisease\")\n",
    "\n",
    "# plota cada dado da legenda, no grafíco\n",
    "plt.scatter(dt_failure_Pain['ChestPainType1'],  dt_failure_Pain['ST_Slope1'], c='r', alpha=0.6, marker='^', label='Paciente com insuficiência cardíaca e sente dor ao se exercitar')\n",
    "plt.scatter(    dt_failure_['ChestPainType1'],      dt_failure_['ST_Slope1'], c='r', alpha=0.6, marker='o', label='Paciente com insuficiência cardíaca')\n",
    "plt.scatter(   dt_work_Pain['ChestPainType1'],     dt_work_Pain['ST_Slope1'], c='g', alpha=0.6, marker='^', label='Paciente que sente dor ao se exercitar')\n",
    "plt.scatter(       dt_work_['ChestPainType1'],         dt_work_['ST_Slope1'], c='g', alpha=0.6, marker='s', label='Paciente sem insuficiência cardíaca e não sente dor ao se exercitar')\n",
    " \n",
    "# coloca a legenda no rodapé\n",
    "plt.legend(bbox_to_anchor=(0,-0.5,0,0), loc=\"lower left\", borderaxespad=0, ncol=1, fontsize=25, \n",
    "           title =\"Legenda\",title_fontsize=20, shadow=True)\n",
    "\n",
    "# mostra o título\n",
    "plt.title(\"Relação entre insuficiência cardíaca\",fontsize=30)\n",
    "\n",
    "# mostrar os valores dos eixos x e y\n",
    "plt.tick_params(labelbottom=True, labelleft=True)\n",
    "# caption dos valores do eixo y\n",
    "plt.yticks(ticks=[0.3,1.3,2.3], labels=[\"Upsloping\",\"Flat\",\"Downsloping\"],fontsize=20)\n",
    "# caption dos valores do eixo X\n",
    "plt.xticks(ticks=[0.3,1.3,2.3,3.3], labels=[\"Typical Angina\",\"Atypical Angina\",\"Non-Anginal Pain\",\"Asymptomatic\"],fontsize=20)\n",
    "\n",
    "\n",
    "# escreve o nome das variáveis no eixo Y e X\n",
    "plt.text(-0.5, 1.3, \"ST_Slope\", fontsize=30,  rotation='vertical',  verticalalignment='center')\n",
    "plt.text(1.85, -0.5, \"ChestPainType\", fontsize=30,  horizontalalignment='center')\n",
    "\n",
    "# desenha linhas horizontais separando os valores\n",
    "plt.plot( [0.25,3.5] , [0.9,0.9], linestyle='dashed', c= 'b')  \n",
    "plt.plot( [0.25,3.5] , [1.9,1.9], linestyle='dashed', c= 'b')   \n",
    "\n",
    "# desenha linhas verticais separando os valores\n",
    "plt.plot( [0.9,0.9] , [0.25,2.5], linestyle='dashed', c= 'b')   \n",
    "plt.plot( [1.9,1.9] , [0.25,2.5], linestyle='dashed', c= 'b')   \n",
    "plt.plot( [2.9,2.9] , [0.25,2.5], linestyle='dashed', c= 'b')   \n",
    "\n",
    "# mostra  o gráfico\n",
    "plt.show()"
   ]
  },
  {
   "cell_type": "code",
   "execution_count": null,
   "id": "16e3460b",
   "metadata": {},
   "outputs": [],
   "source": []
  },
  {
   "cell_type": "code",
   "execution_count": null,
   "id": "6c7e1695",
   "metadata": {},
   "outputs": [],
   "source": [
    "\n",
    "\n",
    "\n",
    "x = 'Oldpeak'\n",
    "plt.scatter(dt_failure_Pain[x], dt_failure_Pain['ST_Slope1'], c='r', alpha=0.6, marker='^', label='insuficiência cardíaca + dor ao exercitar')\n",
    "plt.scatter(    dt_failure_[x],      dt_failure_['ST_Slope1'], c='r', alpha=0.6, marker='o', label='insuficiência cardíaca')\n",
    "plt.scatter(   dt_work_Pain[x],     dt_work_Pain['ST_Slope1'], c='g', alpha=0.6, marker='^', label='dor ao exercitar')\n",
    "plt.scatter(       dt_work_[x],         dt_work_['ST_Slope1'], c='g', alpha=0.6, marker='s', label='sem problemas')\n",
    " \n",
    "\n",
    "plt.legend(bbox_to_anchor=(0,1.02,1,0.2), loc=\"lower left\", mode=\"expand\", borderaxespad=0, ncol=1, fontsize=25)\n",
    "\n",
    "# upsloping, Flat: flat, Down: downsloping\n",
    "\n",
    "\n",
    "print(\"Gráfico usando:  ChestPainType1 x ST_Slope1, + ExerciseAngina e HeartDisease\")\n",
    " \n",
    "plt.text(-0.5, 0.25, \"Upsloping\", fontsize=20)\n",
    "plt.text(-0.33, 1.25, \"Flat\", fontsize=20)\n",
    "plt.text(-0.55, 2.25, \"Downsloping\", fontsize=20)\n",
    "\n",
    "\n",
    "#plt.text(0.25, -0.3, \"Typical Angina\", fontsize=20,  horizontalalignment='center')\n",
    "#plt.text(1.25, -0.3, \"Atypical Angina\", fontsize=20,  horizontalalignment='center')\n",
    "#plt.text(2.25, -0.3, \"Non-Anginal Pain\", fontsize=20,  horizontalalignment='center')\n",
    "#plt.text(3.25, -0.3, \"Asymptomatic\", fontsize=20,  horizontalalignment='center')\n",
    "#plt.line(       [0,,         dt_work_['ST_Slope1'], c='g', alpha=0.6, marker='s', label='sem problemas')\n",
    " \n",
    "plt.title(\"123\")\n",
    "plt.plot()\n",
    "plt.show()"
   ]
  },
  {
   "cell_type": "code",
   "execution_count": null,
   "id": "c5a25125",
   "metadata": {},
   "outputs": [],
   "source": []
  }
 ],
 "metadata": {
  "kernelspec": {
   "display_name": "BIA",
   "language": "python",
   "name": "bia"
  },
  "language_info": {
   "codemirror_mode": {
    "name": "ipython",
    "version": 3
   },
   "file_extension": ".py",
   "mimetype": "text/x-python",
   "name": "python",
   "nbconvert_exporter": "python",
   "pygments_lexer": "ipython3",
   "version": "3.10.5"
  }
 },
 "nbformat": 4,
 "nbformat_minor": 5
}
